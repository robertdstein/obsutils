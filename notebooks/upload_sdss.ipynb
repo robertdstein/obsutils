{
 "cells": [
  {
   "cell_type": "code",
   "execution_count": 1,
   "id": "47b4b4b9-9266-4809-93ed-125644e8ace3",
   "metadata": {},
   "outputs": [],
   "source": [
    "%matplotlib inline\n",
    "import matplotlib.pyplot as plt\n",
    "from pathlib import Path\n",
    "import pandas as pd\n",
    "from astroquery.sdss import SDSS\n",
    "from astropy import coordinates as coords\n",
    "from astropy.time import Time\n",
    "import numpy as np\n",
    "from obsutils.utils import SkyportalClient"
   ]
  },
  {
   "cell_type": "code",
   "execution_count": 2,
   "id": "98b72368-35f4-42d3-8904-1690f5db714d",
   "metadata": {},
   "outputs": [],
   "source": [
    "instrument_id = 50 # BOSS is 50"
   ]
  },
  {
   "cell_type": "code",
   "execution_count": 3,
   "id": "c2396d61-e714-4e0c-b1e2-2b1ec2c20be5",
   "metadata": {},
   "outputs": [],
   "source": [
    "source_name = \"ZTF18aaotzun\""
   ]
  },
  {
   "cell_type": "code",
   "execution_count": 16,
   "id": "d811a43e-0f4f-4550-b901-8446601b52cf",
   "metadata": {},
   "outputs": [],
   "source": [
    "client = SkyportalClient()\n",
    "client.set_up_session()\n",
    "\n",
    "res = client.api(\n",
    "    \"GET\", \n",
    "    f\"sources/{source_name}\",\n",
    "    data={\"includePhotometry\": \"false\"}\n",
    ")\n",
    "src_data = res.json()[\"data\"]"
   ]
  },
  {
   "cell_type": "code",
   "execution_count": 6,
   "id": "b13a37d9-4405-4fa0-af85-b79dd611df85",
   "metadata": {},
   "outputs": [],
   "source": [
    "pos = coords.SkyCoord(src_data[\"ra\"], src_data[\"dec\"], frame='icrs', unit=\"deg\")\n",
    "xid = SDSS.query_region(pos, radius='1 arcsec', spectro=True)"
   ]
  },
  {
   "cell_type": "code",
   "execution_count": 7,
   "id": "39bf5d0c-a07b-478a-9712-c45eac7e6598",
   "metadata": {},
   "outputs": [
    {
     "name": "stdout",
     "output_type": "stream",
     "text": [
      "Specid is 2077381330038974464\n"
     ]
    }
   ],
   "source": [
    "specid = int(xid[\"specobjid\"][0]) if len(xid) == 1 else None\n",
    "print(f\"Specid is {specid}\")"
   ]
  },
  {
   "cell_type": "code",
   "execution_count": 8,
   "id": "42a17d7a-5fd3-4a26-bf0f-124148c5578f",
   "metadata": {},
   "outputs": [],
   "source": [
    "sp = SDSS.get_spectra(matches=xid)"
   ]
  },
  {
   "cell_type": "code",
   "execution_count": 9,
   "id": "86970733-2d83-4454-a444-0a071cabdfe6",
   "metadata": {},
   "outputs": [],
   "source": [
    "data = sp[0][1].data\n",
    "\n",
    "wl = 10.**data[\"loglam\"]\n",
    "flux = data[\"flux\"]\n"
   ]
  },
  {
   "cell_type": "code",
   "execution_count": 10,
   "id": "f45d0f1a-d920-49f0-adfe-76baae71c76a",
   "metadata": {},
   "outputs": [
    {
     "data": {
      "text/plain": [
       "[<matplotlib.lines.Line2D at 0x10b520690>]"
      ]
     },
     "execution_count": 10,
     "metadata": {},
     "output_type": "execute_result"
    },
    {
     "data": {
      "image/png": "[encoded data removed]",
      "text/plain": [
       "<Figure size 640x480 with 1 Axes>"
      ]
     },
     "metadata": {},
     "output_type": "display_data"
    }
   ],
   "source": [
    "plt.plot(wl, flux)"
   ]
  },
  {
   "cell_type": "code",
   "execution_count": 11,
   "id": "69f03a2b-b587-4b40-a773-71636c667387",
   "metadata": {},
   "outputs": [
    {
     "data": {
      "text/plain": [
       "'2007-02-13T00:00:00.000'"
      ]
     },
     "execution_count": 11,
     "metadata": {},
     "output_type": "execute_result"
    }
   ],
   "source": [
    "mjd = Time(sp[0][0].header[\"MJD\"], format=\"mjd\")\n",
    "mjd.isot"
   ]
  },
  {
   "cell_type": "code",
   "execution_count": 13,
   "id": "195c859e-d019-49cf-905b-02bf835b3a02",
   "metadata": {},
   "outputs": [],
   "source": [
    "filename = f\"{specid}.ascii\""
   ]
  },
  {
   "cell_type": "code",
   "execution_count": 19,
   "id": "bc4747fe-2473-4b03-b136-e4571572ecc0",
   "metadata": {},
   "outputs": [],
   "source": [
    "res = client.api(\n",
    "    \"GET\", \n",
    "    f\"sources/{source_name}/spectra\",\n",
    ")\n",
    "existing_spectra = res.json()[\"data\"][\"spectra\"]\n",
    "filenames = [x[\"original_file_filename\"] for x in existing_spectra]"
   ]
  },
  {
   "cell_type": "code",
   "execution_count": 25,
   "id": "7bda5e4c-f9d7-4de6-bebb-bd3c63eee710",
   "metadata": {},
   "outputs": [],
   "source": [
    "payload = {\n",
    "    \"wavelengths\": [float(x) for x in wl],\n",
    "    \"fluxes\": [float(x) for x in flux],\n",
    "    \"observed_at\": mjd.isot,\n",
    "    \"obj_id\": source_name,\n",
    "    \"instrument_id\": instrument_id,\n",
    "    \"group_ids\": [1],\n",
    "    # \"filename\": filename,\n",
    "}"
   ]
  },
  {
   "cell_type": "code",
   "execution_count": 27,
   "id": "15526a2d-e35a-42e7-a744-5384deb07a55",
   "metadata": {},
   "outputs": [
    {
     "name": "stdout",
     "output_type": "stream",
     "text": [
      "Uploading spectrum 2077381330038974464.ascii\n"
     ]
    }
   ],
   "source": [
    "if specid is not None:\n",
    "    if filename not in filenames:\n",
    "        print(f\"Uploading spectrum {filename}\")\n",
    "        res = client.api(\n",
    "            \"POST\", \n",
    "            \"spectra\",\n",
    "            data=payload\n",
    "        )\n",
    "        res.raise_for_status()\n",
    "        res.json()\n",
    "    else:\n",
    "        print(f\"Spectrum {filename} exists\")"
   ]
  },
  {
   "cell_type": "code",
   "execution_count": null,
   "id": "a3e98f44-1752-4eea-bf7f-da239d8da8be",
   "metadata": {},
   "outputs": [],
   "source": []
  }
 ],
 "metadata": {
  "kernelspec": {
   "display_name": "obsutils",
   "language": "python",
   "name": "obsutils"
  },
  "language_info": {
   "codemirror_mode": {
    "name": "ipython",
    "version": 3
   },
   "file_extension": ".py",
   "mimetype": "text/x-python",
   "name": "python",
   "nbconvert_exporter": "python",
   "pygments_lexer": "ipython3",
   "version": "3.13.3"
  }
 },
 "nbformat": 4,
 "nbformat_minor": 5
}
