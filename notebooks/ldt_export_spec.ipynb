{
 "cells": [
  {
   "cell_type": "code",
   "execution_count": 1,
   "id": "77c59030-94e4-4ef3-af43-be979df02799",
   "metadata": {},
   "outputs": [],
   "source": [
    "from astropy.io import fits\n",
    "from pathlib import Path\n",
    "from astropy.time import Time\n",
    "import pandas as pd\n",
    "import numpy as np\n",
    "from astropy.table import Table\n",
    "from obsutils.utils import SkyportalClient\n",
    "from io import StringIO"
   ]
  },
  {
   "cell_type": "code",
   "execution_count": 2,
   "id": "df825f35-b324-4848-a6a3-5e6c030905c7",
   "metadata": {},
   "outputs": [],
   "source": [
    "base_dir = Path.home() / \"Data/ldt/20250518/redux\"\n",
    "\n",
    "send_to_fritz = True\n",
    "\n",
    "instrument_id = 46 # LDT is 46"
   ]
  },
  {
   "cell_type": "code",
   "execution_count": 3,
   "id": "d4a45817-698a-4dc5-b870-255c4ef648c9",
   "metadata": {},
   "outputs": [],
   "source": [
    "files = list(base_dir.glob(\"*_tellcorr.fits\"))"
   ]
  },
  {
   "cell_type": "code",
   "execution_count": 4,
   "id": "ab5cdcf1-9939-46b4-b93d-e6c4773e8022",
   "metadata": {},
   "outputs": [
    {
     "name": "stdout",
     "output_type": "stream",
     "text": [
      "Saving to /Users/robertstein/Data/ldt/20250518/redux/clean_ZTF25aapwprt_tellcorr.txt\n",
      "Uploading spectrum LDT_20250519_ZTF25aapwprt_tellcorr.fits.\n",
      "Saving to /Users/robertstein/Data/ldt/20250518/redux/clean_ZTF18aaotzun_tellcorr.txt\n",
      "Uploading spectrum LDT_20250519_ZTF18aaotzun_tellcorr.fits.\n",
      "Saving to /Users/robertstein/Data/ldt/20250518/redux/clean_ZTF20aappkya_tellcorr.txt\n",
      "Uploading spectrum LDT_20250519_ZTF20aappkya_tellcorr.fits.\n",
      "Saving to /Users/robertstein/Data/ldt/20250518/redux/clean_ZTF25aaooewz_tellcorr.txt\n",
      "Spectrum LDT_20250519_ZTF25aaooewz_tellcorr.fits already uploaded.\n"
     ]
    }
   ],
   "source": [
    "for path in files:\n",
    "    with fits.open(path) as hdul:\n",
    "        source = hdul[0].header[\"TARGET\"]\n",
    "        date = Time(hdul[0].header[\"DATE-OBS\"], format=\"isot\")\n",
    "        data = hdul[1].data\n",
    "        \n",
    "    df = Table(data).to_pandas()[[\"wave\", \"flux\", \"sigma\"]]\n",
    "    df.rename(columns={\"wave\": \"#wl\"}, inplace=True)\n",
    "    \n",
    "    # Fix for SNID\n",
    "    df = df[df[\"flux\"] > 0]\n",
    "    outpath = path.parent / f\"clean_{path.with_suffix(\".txt\").name}\"\n",
    "    print(f\"Saving to {outpath}\")\n",
    "    df.to_csv(outpath, sep=\" \", index=False)\n",
    "    \n",
    "    if send_to_fritz:\n",
    "        \n",
    "        text = df.to_string()\n",
    "        string_buffer = StringIO()\n",
    "    \n",
    "        df.to_csv(string_buffer, index=False)\n",
    "        text = string_buffer.getvalue()\n",
    "    \n",
    "        filename = f\"LDT_{str(date.isot).split('T')[0].replace('-', '')}_{path.name}\"\n",
    "        \n",
    "        payload = {\n",
    "            \"wave_column\": 0,\n",
    "            \"flux_column\": 1,\n",
    "            \"fluxerr_column\": 2,\n",
    "            \"observed_at\": str(date),\n",
    "            \"obj_id\": source,\n",
    "            \"instrument_id\": instrument_id,\n",
    "            \"ascii\": text,\n",
    "            \"filename\": path.name,\n",
    "            \"group_ids\": [1]\n",
    "        }\n",
    "    \n",
    "        client = SkyportalClient()\n",
    "        client.set_up_session()\n",
    "    \n",
    "        res = client.api(\n",
    "            \"GET\", \n",
    "            f\"sources/{source}/spectra\",\n",
    "        )\n",
    "        existing_spectra = res.json()[\"data\"][\"spectra\"]\n",
    "        filenames = [x[\"original_file_filename\"] for x in existing_spectra]\n",
    "    \n",
    "        if path.name in filenames:\n",
    "            print(f\"Spectrum {filename} already uploaded.\")\n",
    "        else:\n",
    "            print(f\"Uploading spectrum {filename}.\")\n",
    "            res = client.api(\n",
    "                \"POST\", \n",
    "                \"spectra/ascii\",\n",
    "                data=payload\n",
    "            )\n",
    "            res.raise_for_status()"
   ]
  },
  {
   "cell_type": "code",
   "execution_count": null,
   "id": "c824aa9b-9d5f-4857-85d4-7ed763343945",
   "metadata": {},
   "outputs": [],
   "source": []
  }
 ],
 "metadata": {
  "kernelspec": {
   "display_name": "obsutils",
   "language": "python",
   "name": "obsutils"
  },
  "language_info": {
   "codemirror_mode": {
    "name": "ipython",
    "version": 3
   },
   "file_extension": ".py",
   "mimetype": "text/x-python",
   "name": "python",
   "nbconvert_exporter": "python",
   "pygments_lexer": "ipython3",
   "version": "3.13.3"
  }
 },
 "nbformat": 4,
 "nbformat_minor": 5
}
